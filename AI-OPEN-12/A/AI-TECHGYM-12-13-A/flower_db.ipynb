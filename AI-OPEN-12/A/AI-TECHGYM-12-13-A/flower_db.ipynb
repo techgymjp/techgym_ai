{
 "cells": [
  {
   "cell_type": "code",
   "execution_count": 1,
   "metadata": {},
   "outputs": [],
   "source": [
    "from flaski.database import init_db"
   ]
  },
  {
   "cell_type": "code",
   "execution_count": 2,
   "metadata": {},
   "outputs": [
    {
     "name": "stdout",
     "output_type": "stream",
     "text": [
      "2020-12-14 22:43:31,627 INFO sqlalchemy.engine.base.Engine SELECT CAST('test plain returns' AS VARCHAR(60)) AS anon_1\n",
      "2020-12-14 22:43:31,628 INFO sqlalchemy.engine.base.Engine ()\n",
      "2020-12-14 22:43:31,629 INFO sqlalchemy.engine.base.Engine SELECT CAST('test unicode returns' AS VARCHAR(60)) AS anon_1\n",
      "2020-12-14 22:43:31,630 INFO sqlalchemy.engine.base.Engine ()\n",
      "2020-12-14 22:43:31,632 INFO sqlalchemy.engine.base.Engine PRAGMA main.table_info(\"flower_master\")\n",
      "2020-12-14 22:43:31,632 INFO sqlalchemy.engine.base.Engine ()\n",
      "2020-12-14 22:43:31,634 INFO sqlalchemy.engine.base.Engine PRAGMA temp.table_info(\"flower_master\")\n",
      "2020-12-14 22:43:31,635 INFO sqlalchemy.engine.base.Engine ()\n",
      "2020-12-14 22:43:31,636 INFO sqlalchemy.engine.base.Engine \n",
      "CREATE TABLE flower_master (\n",
      "\tflower_name VARCHAR NOT NULL, \n",
      "\twiki_url VARCHAR, \n",
      "\tpicture_path VARCHAR, \n",
      "\tcopyright_owner VARCHAR, \n",
      "\tcopyright_url VARCHAR, \n",
      "\tPRIMARY KEY (flower_name)\n",
      ")\n",
      "\n",
      "\n",
      "2020-12-14 22:43:31,637 INFO sqlalchemy.engine.base.Engine ()\n",
      "2020-12-14 22:43:31,639 INFO sqlalchemy.engine.base.Engine COMMIT\n"
     ]
    }
   ],
   "source": [
    "init_db()"
   ]
  },
  {
   "cell_type": "code",
   "execution_count": 3,
   "metadata": {},
   "outputs": [],
   "source": [
    "from flaski.database import db_session"
   ]
  },
  {
   "cell_type": "code",
   "execution_count": 5,
   "metadata": {},
   "outputs": [],
   "source": [
    "from flaski.dbmodels import FlowerMaster"
   ]
  },
  {
   "cell_type": "code",
   "execution_count": 8,
   "metadata": {},
   "outputs": [],
   "source": [
    "data1 = FlowerMaster(\n",
    "\"daisy\",\n",
    "\"https://en.wikipedia.org/wiki/Bellis_perennis\",\n",
    "\"/static/images/result/daisy.jpg\",\n",
    "\"Norbert Nagel, Mörfelden-Walldorf, Germany\",\n",
    "\"https://creativecommons.org/licenses/by-sa/3.0\"\n",
    ")"
   ]
  },
  {
   "cell_type": "code",
   "execution_count": 9,
   "metadata": {},
   "outputs": [],
   "source": [
    "data2 = FlowerMaster(\n",
    "\"dandelion\",\n",
    "\"https://en.wikipedia.org/wiki/Taraxacum\",\n",
    "\"/static/images/result/dandelion.jpg\",\n",
    "\"Greg Hume\",\n",
    "\"https://creativecommons.org/licenses/by-sa/3.0\"\n",
    ")"
   ]
  },
  {
   "cell_type": "code",
   "execution_count": 10,
   "metadata": {},
   "outputs": [],
   "source": [
    "data3 = FlowerMaster(\n",
    "\"rose\",\n",
    "\"https://en.wikipedia.org/wiki/Rose\",\n",
    "\"/static/images/result/rose.jpg\",\n",
    "\"Stan Shebs\",\n",
    "\"https://creativecommons.org/licenses/by-sa/3.0\"\n",
    ")"
   ]
  },
  {
   "cell_type": "code",
   "execution_count": 11,
   "metadata": {},
   "outputs": [],
   "source": [
    "data4 = FlowerMaster(\n",
    "\"sunflower\",\n",
    "\"https://en.wikipedia.org/wiki/Helianthus\",\n",
    "\"/static/images/result/sunflower.jpg\",\n",
    "\"Fir0002\",\n",
    "\"http://www.gnu.org/licenses/old-licenses/fdl-1.2.html\"\n",
    ")"
   ]
  },
  {
   "cell_type": "code",
   "execution_count": 12,
   "metadata": {},
   "outputs": [],
   "source": [
    "data5 = FlowerMaster(\n",
    "\"tulip\",\n",
    "\"https://en.wikipedia.org/wiki/Tulip\",\n",
    "\"/static/images/result/tulip.jpg\",\n",
    "\"Dina L\",\n",
    "\"http://creativecommons.org/publicdomain/zero/1.0/deed.en\"\n",
    ")"
   ]
  },
  {
   "cell_type": "code",
   "execution_count": 13,
   "metadata": {},
   "outputs": [],
   "source": [
    "db_session.add(data1)\n",
    "db_session.add(data2)\n",
    "db_session.add(data3)\n",
    "db_session.add(data4)\n",
    "db_session.add(data5)"
   ]
  },
  {
   "cell_type": "code",
   "execution_count": 14,
   "metadata": {},
   "outputs": [
    {
     "name": "stdout",
     "output_type": "stream",
     "text": [
      "2020-12-14 23:20:17,605 INFO sqlalchemy.engine.base.Engine BEGIN (implicit)\n",
      "2020-12-14 23:20:17,608 INFO sqlalchemy.engine.base.Engine INSERT INTO flower_master (flower_name, wiki_url, picture_path, copyright_owner, copyright_url) VALUES (?, ?, ?, ?, ?)\n",
      "2020-12-14 23:20:17,609 INFO sqlalchemy.engine.base.Engine (('daisy', 'https://en.wikipedia.org/wiki/Bellis_perennis', '/static/images/result/daisy.jpg', 'Norbert Nagel, Mörfelden-Walldorf, Germany', 'https://creativecommons.org/licenses/by-sa/3.0'), ('dandelion', 'https://en.wikipedia.org/wiki/Taraxacum', '/static/images/result/dandelion.jpg', 'Greg Hume', 'https://creativecommons.org/licenses/by-sa/3.0'), ('rose', 'https://en.wikipedia.org/wiki/Rose', '/static/images/result/rose.jpg', 'Stan Shebs', 'https://creativecommons.org/licenses/by-sa/3.0'), ('sunflower', 'https://en.wikipedia.org/wiki/Helianthus', '/static/images/result/sunflower.jpg', 'Fir0002', 'http://www.gnu.org/licenses/old-licenses/fdl-1.2.html'), ('tulip', 'https://en.wikipedia.org/wiki/Tulip', '/static/images/result/tulip.jpg', 'Dina L', 'http://creativecommons.org/publicdomain/zero/1.0/deed.en'))\n",
      "2020-12-14 23:20:17,613 INFO sqlalchemy.engine.base.Engine COMMIT\n"
     ]
    }
   ],
   "source": [
    "db_session.commit()"
   ]
  }
 ],
 "metadata": {
  "kernelspec": {
   "display_name": "Python 3",
   "language": "python",
   "name": "python3"
  },
  "language_info": {
   "codemirror_mode": {
    "name": "ipython",
    "version": 3
   },
   "file_extension": ".py",
   "mimetype": "text/x-python",
   "name": "python",
   "nbconvert_exporter": "python",
   "pygments_lexer": "ipython3",
   "version": "3.7.6"
  }
 },
 "nbformat": 4,
 "nbformat_minor": 4
}
